{
 "cells": [
  {
   "cell_type": "code",
   "execution_count": 2,
   "id": "b56d708b",
   "metadata": {},
   "outputs": [],
   "source": [
    "#GoCanvas Form\n",
    "#UI - Tkinter\n",
    "#CSV file reader - Pandas\n",
    "\"\"\"1. Read in CSV from user.\n",
    "   2. Allow user to input new information about the house (new roof, energy company, picture of energy usage)\n",
    "   3. \"\"\"\n",
    "#importing required libraries\n",
    "import pandas as pd\n",
    "from tkinter import *\n",
    "from pathlib import Path\n",
    "from tkinter.filedialog import askopenfile"
   ]
  },
  {
   "cell_type": "code",
   "execution_count": 54,
   "id": "6ba661a5",
   "metadata": {},
   "outputs": [],
   "source": [
    "#creating the tkinter UI\n",
    "\n",
    "primary_window = Tk()\n",
    "primary_window.title(\"GoCanvas App\")\n",
    "primary_window.configure(bg = 'white')\n",
    "\n",
    "\"\"\"class window:\n",
    "    def __init__(self, initiate, title, color):\n",
    "        self.initiate = self.initiate(Tk())\n",
    "        self.title = self.title(\"GoCanvas App\")\n",
    "        self.color = self.configure(bg = 'white')\"\"\"\n",
    "\n",
    "\n",
    "        \n",
    "#defining the open_file function to ask for which csv to use\n",
    "def open_file():\n",
    "    file_path = askopenfile(mode='r', filetypes=[(\"CSV Files\",\"*.csv\")])\n",
    "    \n",
    "    if file_path is not None:\n",
    "        successful_path = \"Your CSV has been submitted.\"\n",
    "        Label(primary_window, text = successful_path, bg = 'white', fg = '#029de6', font = 'none 12 bold').grid(row = 2, column = 0, sticky = W)\n",
    "        content = pd.read_table(file_path, delimiter = ',')        \n",
    "        pass\n",
    "#defining the upload_file function to save the csv input\n",
    "\"\"\"def upload_file():  \n",
    "    \n",
    "    file.set(submitted_file_path)\n",
    "    return \"\"\"\n",
    "\n",
    "#created the layout for home screen asking for inputs\n",
    "Label(primary_window, text = 'Thank you for choosing GoCanvas. Please fill out the form below.', bg = 'white', fg = '#029de6', font = 'none 18 bold').grid(row = 0, column = 0, sticky = W)\n",
    "Label(primary_window, text = '\\nPlease upload the CSV file you wish to use.', bg = 'white', fg = '#029de6', font = 'none 12 bold').grid(row = 1, column = 0, sticky = W)\n",
    "\n",
    "\n",
    "csv_button = Button(primary_window, text = 'Choose File', command = lambda:open_file())\n",
    "csv_button.grid(row = 2, column = 0, sticky = W)\n",
    "\n",
    "\n",
    "primary_window.mainloop()\n"
   ]
  },
  {
   "cell_type": "code",
   "execution_count": null,
   "id": "9b1b6eb5",
   "metadata": {},
   "outputs": [],
   "source": []
  }
 ],
 "metadata": {
  "kernelspec": {
   "display_name": "Python 3 (ipykernel)",
   "language": "python",
   "name": "python3"
  },
  "language_info": {
   "codemirror_mode": {
    "name": "ipython",
    "version": 3
   },
   "file_extension": ".py",
   "mimetype": "text/x-python",
   "name": "python",
   "nbconvert_exporter": "python",
   "pygments_lexer": "ipython3",
   "version": "3.9.12"
  }
 },
 "nbformat": 4,
 "nbformat_minor": 5
}
